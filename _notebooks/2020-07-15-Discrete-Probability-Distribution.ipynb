{
 "cells": [
  {
   "cell_type": "markdown",
   "metadata": {},
   "source": [
    "## Discrete probability distribution"
   ]
  },
  {
   "cell_type": "markdown",
   "metadata": {},
   "source": [
    "### Random variable\n",
    "\n",
    "- random variable is a quantitative variable whose value depends on chance in some way"
   ]
  },
  {
   "cell_type": "markdown",
   "metadata": {},
   "source": [
    "> X represnets the number of heads in 3 coin tosses\n",
    ">\n",
    "> X is a random variable that will take on one of the values: 0,1,2 3\n",
    ">\n",
    "> represented using a capital vairalbe \n",
    "\n"
   ]
  },
  {
   "cell_type": "markdown",
   "metadata": {},
   "source": [
    "Discrete random variables can take on a coutable number of possible values\n",
    "> A finite (or countable infinite) number of possible values\n",
    "\n",
    "Continuous random variables can take on any value in a given interval\n",
    "> Infinite number of possible values\n",
    "\n"
   ]
  },
  {
   "cell_type": "markdown",
   "metadata": {},
   "source": [
    "### Examples of discrete:\n",
    "   \n",
    "number of free throws an NBA player makes in next 20 attempts \n",
    "possible values: 0, 1,2...20\n",
    "\n",
    "number of rolls of a die needed to roll a 3 fo rthe first time\n",
    "possibel values: 1,2,3 ... any whole num value (countably infiinte number of values)\n",
    "\n",
    "profit o a $1.5 bet on a black in roulette.\n",
    "possible values: -1.5 or 1.5 (countalbe possible values, can be negative and decimals)\n"
   ]
  },
  {
   "cell_type": "markdown",
   "metadata": {},
   "source": [
    "### Examples of continuous:\n",
    "\n",
    "velocity of the next pitch in major league baseball\n",
    "\n",
    "time between lightning strikes in a thunderstorm\n",
    "\n",
    "height, weight, length, time\n",
    "\n",
    "there are some important distinctions between discrete and continuous probability distributions"
   ]
  },
  {
   "cell_type": "markdown",
   "metadata": {},
   "source": [
    "### Probability distribution of a discrete random variable\n",
    "\n",
    "The probability distribution of a discrete random variable X is a listing of all possible values of X and their probabilities of occuring.\n",
    "\n",
    "approximately 60% of new born babies develop jaundice.\n",
    "\n",
    "suppose we sample 2 full-term newborn babies. X represnets the number of babies that developed jaundice.\n",
    "\n",
    "\n",
    "whats the probability distribution of X?\n",
    "\n",
    "we can have 0 1 or 2 values for X\n",
    "\n",
    "possible outcomes:\n",
    "\n",
    "|Outcome         |JJ      |JN.      |NJ     |NN|\n",
    "|---|---|---|---|---|\n",
    "|value of x:     |2.|       1.|      1.      |0|\n",
    "|probability:  |0.6*0.6  |0.6*0.4  |0.4*0.6 |0.4*0.4|\n",
    "                \n",
    "|x:         |0.     |1.  |   2|\n",
    "|---|---|---|---|\n",
    "|p(x)      |0.16|  0.48   |0.36|\n",
    "\n"
   ]
  },
  {
   "cell_type": "markdown",
   "metadata": {},
   "source": [
    "All discrete probability distributions must satisfify these conditions:\n",
    "   \n",
    "\n",
    "> all probabilities must lie between 0 and 1\n",
    "\n",
    "> sum of probabilities must equal 1"
   ]
  },
  {
   "cell_type": "markdown",
   "metadata": {},
   "source": [
    "<img src=\"images/1.png\" width=\"400\">"
   ]
  },
  {
   "cell_type": "markdown",
   "metadata": {},
   "source": [
    "probability mass function formula:\n",
    "\n",
    "<img src=\"images/2.png\" width=\"400\">\n",
    "\n",
    "there are many other type of common discrete probability distributions."
   ]
  },
  {
   "cell_type": "markdown",
   "metadata": {},
   "source": [
    "----"
   ]
  },
  {
   "cell_type": "markdown",
   "metadata": {},
   "source": [
    "### Expected value and Variance\n",
    "\n",
    "expected value (expectation) of a random variable is the theoretical mean of the random variable\n",
    "> E(X)  = $\\mu$\n",
    "\n",
    "\n",
    "\n",
    "calculate expected value of discrete random variable X:\n",
    "\n",
    "E(X) = $\\sum$ x.p(x) \n",
    "\n",
    "expecttion of a function g(X):\n",
    "\n",
    "E[g(X)] = $\\sum$ g(x) . p(x)\n",
    "\n",
    "weight avg of the probability of occuring"
   ]
  },
  {
   "cell_type": "markdown",
   "metadata": {},
   "source": [
    "variance of X: (expectation of the squared distance of X from its mean)\n",
    "    \n",
    "\n",
    "$\\sigma^2$ =  E[ (X - $\\mu$)$^2$ ] = $\\sum$ (x - $\\mu$)$^2$ . p(x)"
   ]
  },
  {
   "cell_type": "markdown",
   "metadata": {},
   "source": [
    "handy relationshp:\n",
    "    \n",
    " E[ (X - $\\mu$)$^2$ ] =  E[ X$^2$ ] -  [E(X)]$^2$ \n",
    " \n",
    " E[ (X - $\\mu$)$^2$ ] =  E[ X$^2$ ] -  $\\mu$$^2$ "
   ]
  },
  {
   "cell_type": "markdown",
   "metadata": {},
   "source": [
    "### Problems:"
   ]
  },
  {
   "cell_type": "markdown",
   "metadata": {},
   "source": [
    "\n",
    "|x: |0.|1.|2|\n",
    "|---|---|---|---|\n",
    "|p(x)|0.16|0.48|0.36|\n",
    "\n",
    "\n",
    "\n",
    "\n",
    "E(X) = $\\sum$ x.p(x) \n",
    "\n",
    " = 0 * 0.16 + 1 * 0.48 + 2 * 0.36\n",
    " \n",
    " = 1.2\n",
    " \n",
    " > if we simulate a million values of X and take average of the values. we get 1.19986 (experimental validation)\n",
    " >\n",
    " > Law of large numbers : states that as a sample size grows, its mean gets closer to the average of the whole population"
   ]
  },
  {
   "cell_type": "markdown",
   "metadata": {},
   "source": [
    "----------"
   ]
  },
  {
   "cell_type": "markdown",
   "metadata": {},
   "source": [
    "lets find the expectation of a function of X: x$^2$\n",
    "\n",
    "E(X$^2$) = $\\sum$ x$^2$ . p(x) \n",
    "\n",
    " = 1.92"
   ]
  },
  {
   "cell_type": "markdown",
   "metadata": {},
   "source": [
    "variance of X?\n",
    "\n",
    "$\\sigma^2$ =  $\\sum$ (x - $\\mu$)$^2$ . p(x)\n",
    "\n",
    " = (0-1.2)$^2$ * 0.16 + (1-1.2)$^2$ *0.48 + (2-1.2)$^2$ * 0.36\n",
    "\n",
    "= 0.48"
   ]
  },
  {
   "cell_type": "markdown",
   "metadata": {},
   "source": [
    " E[ (X - $\\mu$)$^2$ ] =  E[ X$^2$ ] -  $\\mu$$^2$ \n",
    "    \n",
    " = 1.92 - 1.2$^2$ \n",
    " \n",
    "  = 0.48"
   ]
  },
  {
   "cell_type": "markdown",
   "metadata": {},
   "source": [
    "--------------"
   ]
  },
  {
   "cell_type": "markdown",
   "metadata": {},
   "source": [
    "----\n"
   ]
  },
  {
   "cell_type": "markdown",
   "metadata": {},
   "source": [
    "## Bernoulli Distribution\n",
    "\n",
    "> Toss a fair coin once. What is the distribution of the number of heads?"
   ]
  },
  {
   "cell_type": "markdown",
   "metadata": {},
   "source": [
    "### conditions: \n",
    "\n",
    "> single trial\n",
    "\n",
    "> trial results in one of 2 possible outcomes: success/failure\n",
    "\n",
    "> Independent, mutually exclusive outcomes (exhaustive also?)\n",
    "    \n",
    "> p(success) = p\n",
    "\n",
    "> p(failure) = 1-p"
   ]
  },
  {
   "cell_type": "markdown",
   "metadata": {},
   "source": [
    " Let X = 1 if a success occurs & X = 0 if a failure occures\n",
    "    \n",
    " Then X has a Bernoulli distriburion:\n",
    " \n",
    " P(X = x) = p$^x$(1-p)$^1$$^-$$^x$\n",
    " \n",
    " for x = 0,1 \n",
    " \n",
    " this is probability mass function of a bernoulli function "
   ]
  },
  {
   "cell_type": "markdown",
   "metadata": {},
   "source": [
    "---"
   ]
  },
  {
   "cell_type": "markdown",
   "metadata": {},
   "source": [
    "mean:     $\\mu$ = p\n",
    "\n",
    "<img src=\"images/3.png\" width=\"400\">\n",
    "\n",
    "\n",
    "\n",
    "\n",
    "\n",
    "variance: $\\sigma$$^2$ = p(1-p)\n",
    "\n",
    "<img src=\"images/4.png\" width=\"400\">\n",
    "\n",
    "<img src=\"images/5.png\" width=\"400\">\n"
   ]
  },
  {
   "cell_type": "markdown",
   "metadata": {},
   "source": [
    "### Example:\n",
    "\n",
    "approximately 1 in 200 american adults are lawyers.\n",
    "\n",
    "one american adult is andomly selected.\n",
    "\n",
    "what is the distribuion of the number of lawyers?\n",
    "\n",
    "p(x=1) = 1/200\n",
    "\n",
    "p(x=0) = 199/200"
   ]
  },
  {
   "cell_type": "markdown",
   "metadata": {},
   "source": [
    "---"
   ]
  },
  {
   "cell_type": "markdown",
   "metadata": {},
   "source": [
    "some other common discrete probability distributions are built on the assumption of independent Bernoulli trials.\n",
    "\n",
    "\n",
    "1. Binomial: distribution of number of successes in n independent bernoulli trials\n",
    "\n",
    "\n",
    "2. Geometric: distribution of number of trials to get a first success. in independent bernoulli trials \n",
    "\n",
    "\n",
    "3. Negative binomial: distribution of number of trials to get the rth success in independent bernoulli trials\n",
    "\n"
   ]
  },
  {
   "cell_type": "markdown",
   "metadata": {},
   "source": [
    "## Binomial distribution\n",
    "\n",
    "#### The number of successes in n independent Bernoulli trails has a binomial distribution\n",
    "\n",
    "> A coin is flipped 100 times. What is the probability heads comes up at least 60 times? \n",
    "\n",
    "> You buy a certain type of lottery ticket once a week for 4 weeks. What is the probability you win a cash prize exactly twice?"
   ]
  },
  {
   "cell_type": "markdown",
   "metadata": {},
   "source": [
    "### conditions:\n",
    "\n",
    "> There are n independent trials. \n",
    "\n",
    "\n",
    "> Each trial can result in either success/failure\n",
    "\n",
    "\n",
    "> P(success) = p and is constant from trial to traial\n",
    "\n",
    "\n",
    "> P(fail) = 1-p\n",
    " \n",
    " \n",
    "> X represents the number of successes in n trials."
   ]
  },
  {
   "cell_type": "markdown",
   "metadata": {},
   "source": [
    "\n",
    "Then X has a binomial distribution:\n",
    "\n",
    "$P(X=x)   = {n \\choose x} p^x (1-p)^{ n-x}$\n",
    "\n",
    "for x = 0,1,2,3...n\n",
    "\n",
    "\n",
    "combinations formula:\n",
    "\n",
    "${n \\choose x} = \\frac{n!}{x!(n-x)!)}$"
   ]
  },
  {
   "cell_type": "markdown",
   "metadata": {},
   "source": [
    "$\\mu$ = E(X) = np\n",
    "\n",
    "<img src=\"images/6.png\" width=\"400\">\n",
    " \n",
    "\n",
    "\n",
    "\n",
    "\n",
    "$\\sigma$ = np(1-p)\n",
    "\n",
    "<img src=\"images/7.png\" width=\"400\">"
   ]
  },
  {
   "cell_type": "markdown",
   "metadata": {},
   "source": [
    "---\n"
   ]
  },
  {
   "cell_type": "markdown",
   "metadata": {},
   "source": [
    "Q: A balanced 6 sided die is rolled 3 times. What is the probability a 5 comes up exactly twice?\n",
    "\n",
    "A:  If asked what is a probability a 6 comes up once , 4 comes up once and 3 comes up once. this is not a bernoulli trial. a dice has 6 sides so more than one possibility. read the question carefully\n",
    "\n",
    "\n",
    "in our question \n",
    "\n",
    "success : rolling a 5\n",
    "\n",
    "failure: rolling any other number"
   ]
  },
  {
   "cell_type": "markdown",
   "metadata": {},
   "source": [
    "Let X represent number of 5s in 3 rolls\n",
    "\n",
    "X has a binomial distribution with n=3 and p=1/6\n",
    "\n",
    "$P(X=x)   = {3 \\choose 2} (\\frac{1}{6})^2 (1-\\frac{1}{6})^{ 3-2}$\n",
    "\n",
    " = 0.0694\n",
    "\n",
    "\n",
    "reasoning:\n",
    "\n",
    "$p^x (1-p)^{ n-x}$ is the probability of one specific ordering of successes and failures.\n",
    "\n",
    "there are ${n \\choose x}$ possible orderings\n"
   ]
  },
  {
   "cell_type": "markdown",
   "metadata": {},
   "source": [
    "---"
   ]
  },
  {
   "cell_type": "markdown",
   "metadata": {},
   "source": [
    "The probability of a randomly selected 90 years old canadian male survives for another year is aproximately 0.82.\n",
    "\n",
    "If twenty 90-year old canadian males are randomly selected, what is the probability exactly 18 survive for atleast \n",
    "another year\n",
    "\n",
    "\n",
    "p = 0.82\n",
    "\n",
    "${20 \\choose 18} 0.82^{18} (1-0.82)^{20-18}$\n",
    "\n",
    "= 0.173\n",
    "\n",
    "\n",
    "Bonus:\n",
    "\n",
    "$\\mu$ = np = 20*0.82 = 16.4\n",
    "\n",
    "so out of 20 randomly selected sample, on an average 16.4 of them will live for another year.\n",
    "\n",
    "$\\sigma^2$ = np(1-p) = 2.952\n",
    "\n",
    "\n",
    "what is the probability that at least 18 survive for a year?\n",
    "\n",
    "\n",
    "${20 \\choose 18} 0.82^{18} (1-0.82)^{20-18}$ + ${20 \\choose 19} 0.82^{19} (1-0.82)^{20-19}$ + ${20 \\choose 20} 0.82^{20} (1-0.82)^{20-20}$\n",
    "\n",
    "= 0.275"
   ]
  },
  {
   "cell_type": "markdown",
   "metadata": {},
   "source": [
    "### Binomial / Not Binomial"
   ]
  },
  {
   "cell_type": "markdown",
   "metadata": {},
   "source": [
    "The probability a randomly selected 40 year old pregnant woman is carrying a fetus with down syndrome is approximately 0.01\n",
    "\n",
    "25 40 uear old pregnant women are randomly selected. What is the probability exactly 2 are carrying a fets with Down syndrome?\n",
    "\n",
    "YES \n",
    "\n",
    "X: number of pregnant women carrying a fetus with down syndrome\n",
    "\n",
    "n: 25\n",
    "\n",
    "p: 0.01"
   ]
  },
  {
   "cell_type": "markdown",
   "metadata": {},
   "source": [
    "---"
   ]
  },
  {
   "cell_type": "markdown",
   "metadata": {},
   "source": [
    "Suppose an ordinary 6 sided die is rolled 16 times. \n",
    "\n",
    "What is the probability that on exactly 5 of the rolls, either a 3 or a 4 comes up?\n",
    "\n",
    "YES \n",
    "\n",
    "\n",
    "success : 3 or  4\n",
    "\n",
    "failure : 1,2,5,6\n",
    "\n",
    "\n",
    "Trials are independent\n",
    "\n",
    "p remains same for all trails\n",
    "\n",
    "\n",
    "X has binomial distribution.\n",
    "\n",
    "n = 16, p=2/6\n",
    "\n"
   ]
  },
  {
   "cell_type": "markdown",
   "metadata": {},
   "source": [
    "---"
   ]
  },
  {
   "cell_type": "markdown",
   "metadata": {},
   "source": [
    "A die rolled until a 6 comes up 3 times.\n",
    "\n",
    "Let X represent the number of the trial on which the 3rd 6 appears.\n",
    "\n",
    "NO\n",
    "\n",
    "This is negative binomial distribution"
   ]
  },
  {
   "cell_type": "markdown",
   "metadata": {},
   "source": [
    "---"
   ]
  },
  {
   "cell_type": "markdown",
   "metadata": {},
   "source": [
    "In a pool of 30 job applicants, 6 have a criminal record. you randomly select 8 from the 30 for an interview.\n",
    "\n",
    "what is the probability exactly 2 have a criminal record?\n",
    "\n",
    "NO\n",
    "\n",
    "first selected candidate has a probability of 6/30 of being criminal\n",
    "second selected candidate has a probability of 5/29.\n",
    "\n",
    "so the trails are not independent. \n",
    "\n",
    "this is a Hypergeometric distribution.\n"
   ]
  },
  {
   "cell_type": "markdown",
   "metadata": {},
   "source": [
    "---"
   ]
  },
  {
   "cell_type": "markdown",
   "metadata": {},
   "source": [
    "The number of putts a PGA tour player makes in his next 10 putts.\n",
    "\n",
    "NO\n",
    "\n",
    "satisfied:\n",
    "\n",
    "fixed number trials 10\n",
    "\n",
    "outcomes are : they make it or miss it\n",
    "\n",
    ".\n",
    "\n",
    ".\n",
    "\n",
    "\n",
    "\n",
    "not satisfied:\n",
    "\n",
    "p is changing. all putts are not same. some are long some are short etc. \n",
    "\n",
    "all putts are not independent of one another. if a PGA player misses a putt , that influences the next shot"
   ]
  },
  {
   "cell_type": "markdown",
   "metadata": {},
   "source": [
    "---"
   ]
  },
  {
   "cell_type": "markdown",
   "metadata": {},
   "source": [
    "Probability that there are exactly 8 lighting strikes in the first 5 minutes of the next thunderstorm?\n",
    "\n",
    "NO\n",
    "\n",
    "\n",
    "Not satisfied:\n",
    "\n",
    "we donot have a fixed number of trials"
   ]
  },
  {
   "cell_type": "markdown",
   "metadata": {},
   "source": [
    "---"
   ]
  },
  {
   "cell_type": "markdown",
   "metadata": {},
   "source": [
    "### Hypergeometric distribution\n",
    "\n",
    "Suppose we are randomly sampling n objects without replacement from a source that contains \"a\" successes and \"N-a\" failures.\n",
    "\n",
    "random variable X represents the number of successes in the sample.\n",
    "\n",
    "Then X has the hypergeometric distribution:\n",
    "\n",
    "\n",
    "\n",
    "<img src=\"images/8.png\" width=\"400\">"
   ]
  },
  {
   "cell_type": "code",
   "execution_count": null,
   "metadata": {},
   "outputs": [],
   "source": []
  },
  {
   "cell_type": "markdown",
   "metadata": {},
   "source": [
    "\n",
    "An urn contains 6 red balls and 14 yellow balls. 5 balls are randomly dawn without replcement. What is the probability exactly 4 red balls are drawn?\n",
    "\n",
    "trials are not independent. Binomial cannot be applies here. \n",
    "\n",
    "\n",
    " $\\frac{{6 \\choose 4}{14 \\choose 1}}{20 \\choose 5}$ = 15* 14 /15504\n",
    " \n",
    "  = 0.01354"
   ]
  },
  {
   "cell_type": "markdown",
   "metadata": {},
   "source": [
    "If sampling with replacement, using binomial distribution would be appropriate.\n",
    "\n",
    "P(4 red balls) = ${5 \\choose 4} (6/20)^4 (1-6/20)^{5-4}$ = 0.02835\n",
    "\n",
    "as on any draw, p(red) = 6/20"
   ]
  },
  {
   "cell_type": "markdown",
   "metadata": {},
   "source": [
    "---"
   ]
  },
  {
   "cell_type": "markdown",
   "metadata": {},
   "source": [
    "Suppose a large high school has 1100 female and 900 male students. A random sample of 10 students is draws.\n",
    "What is the probability exactly 7 of the selected students are female?\n",
    "\n",
    "num of objects sampled, n (with replacement doesn't make sense. without replacement is implied) = 10\n",
    "num of successes in population, a = 1100\n",
    "num of failuers in popularion, N-a = 900\n",
    "\n",
    "P(X=7) =  $\\frac{{1100 \\choose 7}{900 \\choose 3}}{2000 \\choose 10}$ = 0.1665"
   ]
  },
  {
   "cell_type": "markdown",
   "metadata": {},
   "source": [
    "had we used binomial distribution:\n",
    "\n",
    "P(X=7) = ${10 \\choose 7} (0.55)^7 (1-0.55)^{10-7}$ = 0.16648"
   ]
  },
  {
   "cell_type": "markdown",
   "metadata": {},
   "source": [
    "### Relation between Binomial and Hypergrometric\n",
    "\n",
    "As you can see we are pretty close to the hypergeometric answer. But in the urn example, we were far away. \n",
    "\n",
    "Binomial distribution can sometimes provide a reasonable approximation to the hypergeometric.\n",
    "\n",
    "rought guideline: if we are not sampling more than 5% of the population, the binomial provides a reasonable approximation. \n",
    "\n",
    "we do this because its easier to work with. after the first female sample in population. with/without sample isn't that different."
   ]
  },
  {
   "cell_type": "markdown",
   "metadata": {},
   "source": [
    "---"
   ]
  },
  {
   "cell_type": "markdown",
   "metadata": {},
   "source": [
    "Suppose a business employs 12 Democrats, 24 republicans and 8 independents. \n",
    "If a random sample of 6 employees is drawn, what is the probability ther are 3 democrats, 2 republicans and 1 independent in the sample?\n",
    "\n",
    "\n",
    "$\\frac{{12 \\choose 3}{24 \\choose 2} {8 \\choose 1}}{44 \\choose 6}$\n",
    "\n",
    " = 0.0688\n",
    " \n",
    " so we can extened to more than 2 types of obects. multivariate hypergeometric"
   ]
  },
  {
   "cell_type": "markdown",
   "metadata": {},
   "source": [
    "## Poisson distribution\n",
    "\n",
    "Suppose we are counting the number of occurances of an event in a given unit of time, dstance, area, or volume.\n",
    "\n",
    "Then X, the number of events in a fixed unit of time, has a Poisson distribution.\n",
    "\n",
    "### example: \n",
    "- The number of car accidents in a day.\n",
    "\n",
    "- Number of customers visiting \n",
    "\n",
    "### conditions:\n",
    "\n",
    "- events are occuring independently and randomly  \n",
    "\n",
    "- the probability that event occurs in a given length of time doesn't change through time.  "
   ]
  },
  {
   "cell_type": "code",
   "execution_count": null,
   "metadata": {},
   "outputs": [],
   "source": []
  }
 ],
 "metadata": {
  "kernelspec": {
   "display_name": "Python 3",
   "language": "python",
   "name": "python3"
  },
  "language_info": {
   "codemirror_mode": {
    "name": "ipython",
    "version": 3
   },
   "file_extension": ".py",
   "mimetype": "text/x-python",
   "name": "python",
   "nbconvert_exporter": "python",
   "pygments_lexer": "ipython3",
   "version": "3.7.7"
  }
 },
 "nbformat": 4,
 "nbformat_minor": 4
}
